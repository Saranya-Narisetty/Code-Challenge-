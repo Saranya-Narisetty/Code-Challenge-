{
 "cells": [
  {
   "cell_type": "code",
   "execution_count": 1,
   "id": "bd3d4c2c",
   "metadata": {},
   "outputs": [],
   "source": [
    "import pandas as pd"
   ]
  },
  {
   "cell_type": "code",
   "execution_count": 2,
   "id": "7f412f73",
   "metadata": {},
   "outputs": [],
   "source": [
    "data = {\n",
    "    \"transaction_id\": [\"T1\", \"T2\", \"T3\", \"T4\", \"T5\"],\n",
    "    \"customer_id\": [\"C151\", \"C192\", \"C114\", \"C171\", \"C160\"],\n",
    "    \"product_id\": [\"P34\", \"P47\", \"P8\", \"P40\", \"P49\"],\n",
    "    \"category\": [\"Home & Kitchen\", \"Electronics\", \"Electronics\", \"Electronics\", \"Clothing\"],\n",
    "    \"price\": [105.86, 264.05, 147.13, 397.46, 290.91],\n",
    "    \"quantity\": [4, 1, 1, 2, 2],\n",
    "    \"total_spent\": [423.44, 264.05, 147.13, 794.92, 581.82],\n",
    "    \"transaction_date\": [\n",
    "        \"2024-01-01 00:00:00\",\n",
    "        \"2024-01-01 01:00:00\",\n",
    "        \"2024-01-01 02:00:00\",\n",
    "        \"2024-01-01 03:00:00\",\n",
    "        \"2024-01-01 04:00:00\"\n",
    "    ]\n",
    "}\n"
   ]
  },
  {
   "cell_type": "code",
   "execution_count": 5,
   "id": "087c1e9c",
   "metadata": {},
   "outputs": [],
   "source": [
    "# Load the dataset\n",
    "df = pd.DataFrame(data)"
   ]
  },
  {
   "cell_type": "code",
   "execution_count": 6,
   "id": "c11f5b58",
   "metadata": {},
   "outputs": [],
   "source": [
    "# Convert transaction_date to datetime\n",
    "df[\"transaction_date\"] = pd.to_datetime(df[\"transaction_date\"])"
   ]
  },
  {
   "cell_type": "code",
   "execution_count": 7,
   "id": "5055a590",
   "metadata": {},
   "outputs": [
    {
     "name": "stdout",
     "output_type": "stream",
     "text": [
      "Summary Statistics:\n",
      "             price  quantity  total_spent     transaction_date\n",
      "count    5.000000  5.000000     5.000000                    5\n",
      "mean   241.082000  2.000000   442.272000  2024-01-01 02:00:00\n",
      "min    105.860000  1.000000   147.130000  2024-01-01 00:00:00\n",
      "25%    147.130000  1.000000   264.050000  2024-01-01 01:00:00\n",
      "50%    264.050000  2.000000   423.440000  2024-01-01 02:00:00\n",
      "75%    290.910000  2.000000   581.820000  2024-01-01 03:00:00\n",
      "max    397.460000  4.000000   794.920000  2024-01-01 04:00:00\n",
      "std    116.807967  1.224745   256.447257                  NaN\n"
     ]
    }
   ],
   "source": [
    "# 1. Summary statistics\n",
    "summary_stats = df.describe()\n",
    "print(\"Summary Statistics:\\n\", summary_stats)\n",
    "\n"
   ]
  },
  {
   "cell_type": "code",
   "execution_count": 8,
   "id": "dd01ed6d",
   "metadata": {},
   "outputs": [
    {
     "name": "stdout",
     "output_type": "stream",
     "text": [
      "\n",
      "Total Revenue: 2211.36\n"
     ]
    }
   ],
   "source": [
    "# 2. Total revenue\n",
    "total_revenue = df[\"total_spent\"].sum()\n",
    "print(\"\\nTotal Revenue:\", total_revenue)\n",
    "\n"
   ]
  },
  {
   "cell_type": "code",
   "execution_count": 9,
   "id": "48d9b0c3",
   "metadata": {},
   "outputs": [
    {
     "name": "stdout",
     "output_type": "stream",
     "text": [
      "\n",
      "Top 5 Customers by Spending:\n",
      " customer_id\n",
      "C171    794.92\n",
      "C160    581.82\n",
      "C151    423.44\n",
      "C192    264.05\n",
      "C114    147.13\n",
      "Name: total_spent, dtype: float64\n"
     ]
    }
   ],
   "source": [
    "# 3. Top 5 customers by total spending\n",
    "top_customers = df.groupby(\"customer_id\")[\"total_spent\"].sum().nlargest(5)\n",
    "print(\"\\nTop 5 Customers by Spending:\\n\", top_customers)\n",
    "\n"
   ]
  },
  {
   "cell_type": "code",
   "execution_count": 10,
   "id": "153336f0",
   "metadata": {},
   "outputs": [
    {
     "name": "stdout",
     "output_type": "stream",
     "text": [
      "\n",
      "Most Popular Product Categories:\n",
      " category\n",
      "Electronics       3\n",
      "Home & Kitchen    1\n",
      "Clothing          1\n",
      "Name: count, dtype: int64\n"
     ]
    }
   ],
   "source": [
    "# 4. Most popular product categories\n",
    "popular_categories = df[\"category\"].value_counts()\n",
    "print(\"\\nMost Popular Product Categories:\\n\", popular_categories)\n",
    "\n"
   ]
  },
  {
   "cell_type": "code",
   "execution_count": 11,
   "id": "080baf7f",
   "metadata": {},
   "outputs": [
    {
     "name": "stdout",
     "output_type": "stream",
     "text": [
      "\n",
      "Monthly Revenue Trend:\n",
      " month\n",
      "2024-01    2211.36\n",
      "Freq: M, Name: total_spent, dtype: float64\n"
     ]
    }
   ],
   "source": [
    "# 5. Monthly revenue trend\n",
    "df[\"month\"] = df[\"transaction_date\"].dt.to_period(\"M\")\n",
    "monthly_revenue = df.groupby(\"month\")[\"total_spent\"].sum()\n",
    "print(\"\\nMonthly Revenue Trend:\\n\", monthly_revenue)"
   ]
  },
  {
   "cell_type": "code",
   "execution_count": 12,
   "id": "e8443fc6",
   "metadata": {},
   "outputs": [
    {
     "name": "stdout",
     "output_type": "stream",
     "text": [
      "\n",
      "Average Spending per Customer:\n",
      " customer_id\n",
      "C171    794.92\n",
      "C160    581.82\n",
      "C151    423.44\n",
      "C192    264.05\n",
      "C114    147.13\n",
      "Name: total_spent, dtype: float64\n"
     ]
    }
   ],
   "source": [
    "# 6. Average spending per customer\n",
    "avg_spending_per_customer = df.groupby(\"customer_id\")[\"total_spent\"].mean().sort_values(ascending=False)\n",
    "print(\"\\nAverage Spending per Customer:\\n\", avg_spending_per_customer)\n",
    "\n"
   ]
  },
  {
   "cell_type": "code",
   "execution_count": 13,
   "id": "f12e40ab",
   "metadata": {},
   "outputs": [
    {
     "name": "stdout",
     "output_type": "stream",
     "text": [
      "\n",
      "Top Products by Revenue:\n",
      " product_id\n",
      "P40    794.92\n",
      "P49    581.82\n",
      "P34    423.44\n",
      "P47    264.05\n",
      "P8     147.13\n",
      "Name: total_spent, dtype: float64\n"
     ]
    }
   ],
   "source": [
    "# 7. Top-selling products by revenue\n",
    "top_products_by_revenue = df.groupby(\"product_id\")[\"total_spent\"].sum().nlargest(10)\n",
    "print(\"\\nTop Products by Revenue:\\n\", top_products_by_revenue)\n",
    "\n"
   ]
  },
  {
   "cell_type": "code",
   "execution_count": 14,
   "id": "58e8f03d",
   "metadata": {},
   "outputs": [
    {
     "name": "stdout",
     "output_type": "stream",
     "text": [
      "\n",
      "Customer Purchase Frequency:\n",
      " customer_id\n",
      "C151    1\n",
      "C192    1\n",
      "C114    1\n",
      "C171    1\n",
      "C160    1\n",
      "Name: count, dtype: int64\n"
     ]
    }
   ],
   "source": [
    "# 8. Customer purchase frequency distribution\n",
    "customer_purchase_frequency = df[\"customer_id\"].value_counts()\n",
    "print(\"\\nCustomer Purchase Frequency:\\n\", customer_purchase_frequency)\n",
    "\n"
   ]
  },
  {
   "cell_type": "code",
   "execution_count": 15,
   "id": "fb2567b3",
   "metadata": {},
   "outputs": [
    {
     "name": "stdout",
     "output_type": "stream",
     "text": [
      "\n",
      "Monthly Revenue Trend (Smoothed):\n",
      " month\n",
      "2024-01    2211.36\n",
      "Freq: M, Name: total_spent, dtype: float64\n"
     ]
    }
   ],
   "source": [
    "# 9. Monthly revenue trend with moving average (to smooth trends)\n",
    "df[\"transaction_date\"] = pd.to_datetime(df[\"transaction_date\"])\n",
    "df[\"month\"] = df[\"transaction_date\"].dt.to_period(\"M\")\n",
    "monthly_revenue_smoothed = monthly_revenue.rolling(3, min_periods=1).mean()  # 3-month moving average\n",
    "print(\"\\nMonthly Revenue Trend (Smoothed):\\n\", monthly_revenue_smoothed)\n",
    "\n"
   ]
  },
  {
   "cell_type": "code",
   "execution_count": 16,
   "id": "4a811e67",
   "metadata": {},
   "outputs": [
    {
     "name": "stdout",
     "output_type": "stream",
     "text": [
      "\n",
      "Most Valuable Customers:\n",
      "              total_spent  purchase_count  avg_spent_per_purchase\n",
      "customer_id                                                     \n",
      "C171              794.92               1                  794.92\n",
      "C160              581.82               1                  581.82\n",
      "C151              423.44               1                  423.44\n",
      "C192              264.05               1                  264.05\n",
      "C114              147.13               1                  147.13\n"
     ]
    }
   ],
   "source": [
    "# 10. Most valuable customers (based on number of purchases & total spend)\n",
    "customer_value = df.groupby(\"customer_id\").agg(\n",
    "    total_spent=(\"total_spent\", \"sum\"),\n",
    "    purchase_count=(\"transaction_id\", \"count\")\n",
    ")\n",
    "customer_value[\"avg_spent_per_purchase\"] = customer_value[\"total_spent\"] / customer_value[\"purchase_count\"]\n",
    "most_valuable_customers = customer_value.sort_values(by=[\"total_spent\", \"purchase_count\"], ascending=[False, False])\n",
    "print(\"\\nMost Valuable Customers:\\n\", most_valuable_customers)\n"
   ]
  },
  {
   "cell_type": "code",
   "execution_count": null,
   "id": "38d456c7",
   "metadata": {},
   "outputs": [],
   "source": []
  }
 ],
 "metadata": {
  "kernelspec": {
   "display_name": "Python 3 (ipykernel)",
   "language": "python",
   "name": "python3"
  },
  "language_info": {
   "codemirror_mode": {
    "name": "ipython",
    "version": 3
   },
   "file_extension": ".py",
   "mimetype": "text/x-python",
   "name": "python",
   "nbconvert_exporter": "python",
   "pygments_lexer": "ipython3",
   "version": "3.11.5"
  }
 },
 "nbformat": 4,
 "nbformat_minor": 5
}
